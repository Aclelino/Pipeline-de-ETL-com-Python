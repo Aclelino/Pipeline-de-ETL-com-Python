{
 "cells": [
  {
   "cell_type": "markdown",
   "id": "412347a2",
   "metadata": {},
   "source": [
    "# 1 CRIAR DADOS JSON\n",
    "# 2 CRIAR SERVIDOR \n",
    "# 3 CONECTAR DADOS COM SERVIDOR\n"
   ]
  },
  {
   "cell_type": "code",
   "execution_count": null,
   "id": "48fdd80e",
   "metadata": {},
   "outputs": [
    {
     "name": "stdout",
     "output_type": "stream",
     "text": [
      " * Serving Flask app \"__main__\" (lazy loading)\n",
      " * Environment: production\n",
      "\u001b[31m   WARNING: This is a development server. Do not use it in a production deployment.\u001b[0m\n",
      "\u001b[2m   Use a production WSGI server instead.\u001b[0m\n",
      " * Debug mode: off\n"
     ]
    },
    {
     "name": "stderr",
     "output_type": "stream",
     "text": [
      " * Running on http://127.0.0.1:5000/ (Press CTRL+C to quit)\n",
      "127.0.0.1 - - [11/Oct/2023 20:32:17] \"\u001b[31m\u001b[1mGET / HTTP/1.1\u001b[0m\" 405 -\n",
      "127.0.0.1 - - [11/Oct/2023 20:32:41] \"\u001b[37mGET /vaga/1 HTTP/1.1\u001b[0m\" 200 -\n",
      "127.0.0.1 - - [11/Oct/2023 20:32:46] \"\u001b[31m\u001b[1mGET / HTTP/1.1\u001b[0m\" 405 -\n",
      "127.0.0.1 - - [11/Oct/2023 20:33:41] \"\u001b[33mGET /vaga/1.puy HTTP/1.1\u001b[0m\" 404 -\n",
      "127.0.0.1 - - [11/Oct/2023 20:33:45] \"\u001b[33mGET /vaga/1.put HTTP/1.1\u001b[0m\" 404 -\n",
      "127.0.0.1 - - [11/Oct/2023 20:34:09] \"\u001b[31m\u001b[1mPUT /vaga/1 HTTP/1.1\u001b[0m\" 405 -\n"
     ]
    }
   ],
   "source": [
    "from flask import Flask,jsonify,request\n",
    "\n",
    "vagas =[\n",
    "{\n",
    "        \"id\":1,\n",
    "        \"Vaga\":\"Dev Python\",\n",
    "        \"Senioridade\":\"Sr\",\n",
    "        \"Local\":\"Remoto\",\n",
    "        \"Descricao\":\"new\"\n",
    "},\n",
    "{\n",
    "        \"id\":2,\n",
    "        \"Vaga\":\"Dev Java\",\n",
    "        \"Senioridade\":\"Sr\",\n",
    "        \"Local\":\"Remoto\",\n",
    "        \"Descricao\":\"new\"\n",
    "},\n",
    "    \n",
    "{\n",
    "        \"id\":3,\n",
    "        \"Vaga\":\"Analista de Dados\",\n",
    "        \"Senioridade\":\"Sr\",\n",
    "        \"Local\":\"Remoto\",\n",
    "        \"Descricao\":\"new\"\n",
    "},\n",
    "{\n",
    "        \"id\":4,\n",
    "        \"Vaga\":\"Cientista de Dados\",\n",
    "        \"Senioridade\":\"Jr\",\n",
    "        \"Local\":\"Remoto\",\n",
    "        \"Descricao\":\"new\"\n",
    "},\n",
    "\n",
    "]\n",
    "\n",
    "\n",
    "app = Flask(__name__)\n",
    "\n",
    "@app.route('/',methods=[\"PUT\"])\n",
    "\n",
    "def vaga_ti():\n",
    "    return \"Home Pagina\"\n",
    "\n",
    "@app.route('/vaga',methods=[\"GET\"])\n",
    "def allJobs():\n",
    "    \n",
    "    return jsonify(vagas)\n",
    "\n",
    "@app.route('/vaga/<int:id>',methods=['GET'])\n",
    "\n",
    "def vaga_id(id):\n",
    "    \n",
    "    for vaga in vagas:\n",
    "        if vaga.get('id') == id:\n",
    "            return jsonify(vaga)\n",
    "        \n",
    "        \n",
    "if __name__ == \"__main__\":\n",
    "    app.run()\n"
   ]
  },
  {
   "cell_type": "code",
   "execution_count": null,
   "id": "f3d6c475",
   "metadata": {},
   "outputs": [],
   "source": []
  },
  {
   "cell_type": "code",
   "execution_count": null,
   "id": "ad3af026",
   "metadata": {},
   "outputs": [],
   "source": []
  }
 ],
 "metadata": {
  "kernelspec": {
   "display_name": "Python 3 (ipykernel)",
   "language": "python",
   "name": "python3"
  }
 },
 "nbformat": 4,
 "nbformat_minor": 5
}
