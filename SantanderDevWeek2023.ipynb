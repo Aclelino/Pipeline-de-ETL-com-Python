{
 "cells": [
  {
   "cell_type": "markdown",
   "id": "56c828a0",
   "metadata": {},
   "source": [
    "# <h1> Santander Dev Week 2023( ETL com Python)"
   ]
  },
  {
   "cell_type": "code",
   "execution_count": 1,
   "id": "10f741ed",
   "metadata": {},
   "outputs": [],
   "source": [
    "from Appi import*\n",
    "\n",
    "# Link da api rodando local\n",
    "\n",
    "api = \"http://127.0.0.1:5000/vaga/\""
   ]
  },
  {
   "cell_type": "markdown",
   "id": "ef1f7a92",
   "metadata": {},
   "source": [
    "<h3>Extract</h3>\n",
    "\n",
    "extrair os ids da planilha SDWEEK2023.csv joga os ids nas paginas da Appi.py feito no flask"
   ]
  },
  {
   "cell_type": "code",
   "execution_count": 2,
   "id": "6273c579",
   "metadata": {},
   "outputs": [
    {
     "name": "stdout",
     "output_type": "stream",
     "text": [
      "[\n",
      "  {\n",
      "    \"Descricao\": \"new\",\n",
      "    \"Local\": \"Remoto\",\n",
      "    \"Senioridade\": \"Sr\",\n",
      "    \"Vaga\": \"Dev Python\",\n",
      "    \"id\": 1\n",
      "  },\n",
      "  {\n",
      "    \"Descricao\": \"new\",\n",
      "    \"Local\": \"Remoto\",\n",
      "    \"Senioridade\": \"Sr\",\n",
      "    \"Vaga\": \"Dev Java\",\n",
      "    \"id\": 2\n",
      "  },\n",
      "  {\n",
      "    \"Descricao\": \"new\",\n",
      "    \"Local\": \"Remoto\",\n",
      "    \"Senioridade\": \"Sr\",\n",
      "    \"Vaga\": \"Analista de Dados\",\n",
      "    \"id\": 3\n",
      "  },\n",
      "  {\n",
      "    \"Descricao\": \"new\",\n",
      "    \"Local\": \"Remoto\",\n",
      "    \"Senioridade\": \"Jr\",\n",
      "    \"Vaga\": \"Cientista de Dados\",\n",
      "    \"id\": 4\n",
      "  }\n",
      "]\n"
     ]
    }
   ],
   "source": [
    "import pandas as pd\n",
    "import json\n",
    "import requests\n",
    "\n",
    "\n",
    "df = pd.read_csv(\"SDWEEK2023.csv\")\n",
    "id_profissao = df['Profissao de Ti'].tolist()\n",
    "\n",
    "\n",
    "def get_id(id):\n",
    "    r = requests.get(f\"{api}{id}\")\n",
    "    return r.json() if r.status_code == 200 else None\n",
    "\n",
    "profissoes = [profisao for id in id_profissao if (profisao := get_id(id)) is not None]\n",
    "print(json.dumps(profissoes, indent=2))\n"
   ]
  },
  {
   "cell_type": "markdown",
   "id": "86ef8a26",
   "metadata": {},
   "source": [
    "<h3>Transform</h3>\n",
    "Pega as descrição das tabela JobsDescription.csv e joga no arquivos json extraido da Appi.py"
   ]
  },
  {
   "cell_type": "code",
   "execution_count": 3,
   "id": "d5895e45",
   "metadata": {
    "scrolled": true
   },
   "outputs": [
    {
     "name": "stdout",
     "output_type": "stream",
     "text": [
      "[\n",
      "  {\n",
      "    \"Descricao\": \"Proficiente em Python, desenvolvimento \\u00e1gil e integra\\u00e7\\u00e3o de APIs. Resolvedor de problemas, colaborativo, foco em efici\\u00eancia e boas pr\\u00e1ticas.\",\n",
      "    \"Local\": \"Remoto\",\n",
      "    \"Senioridade\": \"Sr\",\n",
      "    \"Vaga\": \"Dev Python\",\n",
      "    \"id\": 1\n",
      "  },\n",
      "  {\n",
      "    \"Descricao\": \"Especialista em Java, desenvolvimento web e aplica\\u00e7\\u00f5es escal\\u00e1veis. Colaborativo, solucionador de problemas, adepto de boas pr\\u00e1ticas de c\\u00f3digo.\",\n",
      "    \"Local\": \"Remoto\",\n",
      "    \"Senioridade\": \"Sr\",\n",
      "    \"Vaga\": \"Dev Java\",\n",
      "    \"id\": 2\n",
      "  },\n",
      "  {\n",
      "    \"Descricao\": \"Analisar, interpretar e visualizar dados p/ insights estrat\\u00e9gicos. Especialista em Python, SQL. Comunicativo e anal\\u00edtico\",\n",
      "    \"Local\": \"Remoto\",\n",
      "    \"Senioridade\": \"Sr\",\n",
      "    \"Vaga\": \"Analista de Dados\",\n",
      "    \"id\": 3\n",
      "  },\n",
      "  {\n",
      "    \"Descricao\": \"Analista estat\\u00edstico, expertise em machine learning, Python/R. Solucionador criativo, comunicativo, transforma dados em insights estrat\\u00e9gicos\",\n",
      "    \"Local\": \"Remoto\",\n",
      "    \"Senioridade\": \"Jr\",\n",
      "    \"Vaga\": \"Cientista de Dados\",\n",
      "    \"id\": 4\n",
      "  }\n",
      "]\n"
     ]
    }
   ],
   "source": [
    "\n",
    "jobs = pd.read_csv(\"JobsDescription.csv\")\n",
    "id_tramp = jobs['description'].tolist()\n",
    "cont = 0\n",
    "for lista_trampo in id_tramp:\n",
    "    \n",
    "    descricao = profissoes[cont]['Descricao']= lista_trampo\n",
    "    cont +=1\n",
    "print(json.dumps(profissoes,indent=2))"
   ]
  },
  {
   "cell_type": "markdown",
   "id": "557f45ca",
   "metadata": {},
   "source": [
    "<h3>Load</h3>\n",
    "\n",
    "Carrega os dados tranformado em uma unica planilha VagasTi.csv"
   ]
  },
  {
   "cell_type": "code",
   "execution_count": 4,
   "id": "98d246a6",
   "metadata": {
    "scrolled": true
   },
   "outputs": [],
   "source": [
    "tabela = pd.DataFrame(profissoes)\n",
    "tabela.to_csv('VagasTi.csv')"
   ]
  },
  {
   "cell_type": "code",
   "execution_count": null,
   "id": "fe3f348c",
   "metadata": {},
   "outputs": [],
   "source": []
  }
 ],
 "metadata": {
  "kernelspec": {
   "display_name": "Python 3 (ipykernel)",
   "language": "python",
   "name": "python3"
  },
  "language_info": {
   "codemirror_mode": {
    "name": "ipython",
    "version": 3
   },
   "file_extension": ".py",
   "mimetype": "text/x-python",
   "name": "python",
   "nbconvert_exporter": "python",
   "pygments_lexer": "ipython3",
   "version": "3.8.8"
  }
 },
 "nbformat": 4,
 "nbformat_minor": 5
}
